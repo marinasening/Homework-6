{
 "cells": [
  {
   "cell_type": "code",
   "execution_count": 71,
   "metadata": {},
   "outputs": [
    {
     "ename": "SyntaxError",
     "evalue": "invalid syntax (<ipython-input-71-d203d268ea3a>, line 3)",
     "output_type": "error",
     "traceback": [
      "\u001b[1;36m  File \u001b[1;32m\"<ipython-input-71-d203d268ea3a>\"\u001b[1;36m, line \u001b[1;32m3\u001b[0m\n\u001b[1;33m    The Moscow Times - Wednesday, October 2, 2002\u001b[0m\n\u001b[1;37m        ^\u001b[0m\n\u001b[1;31mSyntaxError\u001b[0m\u001b[1;31m:\u001b[0m invalid syntax\n"
     ]
    }
   ],
   "source": [
    "#Задание 1\n",
    "\n",
    "The Moscow Times - Wednesday, October 2, 2002\n",
    "The Guardian - Friday, 11.10.13\n",
    "Daily News - Thursday, 18 August 1977\n",
    "\n",
    "The Moscow Times ('%A, %B %w, %Y')\n",
    "The Guardian ('%A, %x')\n",
    "The Guardian ('%A, %d.%m.%y')\n",
    "Daily News ('%A, %w %B %Y')"
   ]
  },
  {
   "cell_type": "code",
   "execution_count": 23,
   "metadata": {},
   "outputs": [
    {
     "name": "stdout",
     "output_type": "stream",
     "text": [
      "True\n",
      "False\n",
      "False\n"
     ]
    }
   ],
   "source": [
    "#Задание 2\n",
    "\n",
    "from datetime import datetime\n",
    "stream = ['2018-04-02', '2018-02-29', '2018-19-02']\n",
    "def valid_date(stream_):\n",
    "    for date_date in stream_:\n",
    "        try:\n",
    "            datetime.strptime(date_date,'%Y-%m-%d')\n",
    "            print(True)\n",
    "            continue\n",
    "        except:\n",
    "            print(False)\n",
    "valid_date(stream)"
   ]
  },
  {
   "cell_type": "code",
   "execution_count": 19,
   "metadata": {},
   "outputs": [
    {
     "name": "stdout",
     "output_type": "stream",
     "text": [
      "Введите начальную дату в формате YYYY-MM-DD2021-02-18\n",
      "Введите конечную дату в формате YYYY-MM-DD2021-03-03\n",
      "2021-02-18\n",
      "2021-02-19\n",
      "2021-02-20\n",
      "2021-02-21\n",
      "2021-02-22\n",
      "2021-02-23\n",
      "2021-02-24\n",
      "2021-02-25\n",
      "2021-02-26\n",
      "2021-02-27\n",
      "2021-02-28\n",
      "2021-03-01\n",
      "2021-03-02\n",
      "2021-03-03\n"
     ]
    }
   ],
   "source": [
    "#Задание 3\n",
    "\n",
    "from datetime import datetime, timedelta\n",
    "\n",
    "start_date = datetime.strptime(input('Введите начальную дату в формате YYYY-MM-DD'), '%Y-%m-%d')\n",
    "end_date = datetime.strptime(input('Введите конечную дату в формате YYYY-MM-DD'), '%Y-%m-%d')\n",
    "list_ = []\n",
    "\n",
    "def date_range(start_date, end_date):\n",
    "    try:\n",
    "        if start_date <= end_date:\n",
    "            while start_date<= end_date:\n",
    "                print(start_date.strftime('%Y-%m-%d'))\n",
    "                start_date += timedelta(days=1)\n",
    "        else:\n",
    "            print(list_)\n",
    "    except:\n",
    "        print(list_)\n",
    "\n",
    "date_range(start_date, end_date)"
   ]
  },
  {
   "cell_type": "code",
   "execution_count": null,
   "metadata": {},
   "outputs": [],
   "source": []
  }
 ],
 "metadata": {
  "kernelspec": {
   "display_name": "Python 3",
   "language": "python",
   "name": "python3"
  },
  "language_info": {
   "codemirror_mode": {
    "name": "ipython",
    "version": 3
   },
   "file_extension": ".py",
   "mimetype": "text/x-python",
   "name": "python",
   "nbconvert_exporter": "python",
   "pygments_lexer": "ipython3",
   "version": "3.8.5"
  }
 },
 "nbformat": 4,
 "nbformat_minor": 4
}
